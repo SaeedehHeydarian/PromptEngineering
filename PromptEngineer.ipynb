{
  "nbformat": 4,
  "nbformat_minor": 0,
  "metadata": {
    "colab": {
      "provenance": [],
      "authorship_tag": "ABX9TyMEPV2Wy1u02BNbJjrKm37M",
      "include_colab_link": true
    },
    "kernelspec": {
      "name": "python3",
      "display_name": "Python 3"
    },
    "language_info": {
      "name": "python"
    }
  },
  "cells": [
    {
      "cell_type": "markdown",
      "metadata": {
        "id": "view-in-github",
        "colab_type": "text"
      },
      "source": [
        "<a href=\"https://colab.research.google.com/github/SaeedehHeydarian/PromptEngineering/blob/main/PromptEngineer.ipynb\" target=\"_parent\"><img src=\"https://colab.research.google.com/assets/colab-badge.svg\" alt=\"Open In Colab\"/></a>"
      ]
    },
    {
      "cell_type": "code",
      "execution_count": 92,
      "metadata": {
        "colab": {
          "base_uri": "https://localhost:8080/"
        },
        "id": "WeSNNCJn8-hb",
        "outputId": "3865ef36-6f10-417b-8048-89223396f727"
      },
      "outputs": [
        {
          "output_type": "stream",
          "name": "stdout",
          "text": [
            "Requirement already satisfied: langchain in /usr/local/lib/python3.12/dist-packages (1.0.1)\n",
            "Requirement already satisfied: langchain-core<2.0.0,>=1.0.0 in /usr/local/lib/python3.12/dist-packages (from langchain) (1.0.0)\n",
            "Requirement already satisfied: langgraph<1.1.0,>=1.0.0 in /usr/local/lib/python3.12/dist-packages (from langchain) (1.0.1)\n",
            "Requirement already satisfied: pydantic<3.0.0,>=2.7.4 in /usr/local/lib/python3.12/dist-packages (from langchain) (2.11.10)\n",
            "Requirement already satisfied: jsonpatch<2.0.0,>=1.33.0 in /usr/local/lib/python3.12/dist-packages (from langchain-core<2.0.0,>=1.0.0->langchain) (1.33)\n",
            "Requirement already satisfied: langsmith<1.0.0,>=0.3.45 in /usr/local/lib/python3.12/dist-packages (from langchain-core<2.0.0,>=1.0.0->langchain) (0.4.35)\n",
            "Requirement already satisfied: packaging<26.0.0,>=23.2.0 in /usr/local/lib/python3.12/dist-packages (from langchain-core<2.0.0,>=1.0.0->langchain) (25.0)\n",
            "Requirement already satisfied: pyyaml<7.0.0,>=5.3.0 in /usr/local/lib/python3.12/dist-packages (from langchain-core<2.0.0,>=1.0.0->langchain) (6.0.3)\n",
            "Requirement already satisfied: tenacity!=8.4.0,<10.0.0,>=8.1.0 in /usr/local/lib/python3.12/dist-packages (from langchain-core<2.0.0,>=1.0.0->langchain) (8.5.0)\n",
            "Requirement already satisfied: typing-extensions<5.0.0,>=4.7.0 in /usr/local/lib/python3.12/dist-packages (from langchain-core<2.0.0,>=1.0.0->langchain) (4.15.0)\n",
            "Requirement already satisfied: langgraph-checkpoint<4.0.0,>=2.1.0 in /usr/local/lib/python3.12/dist-packages (from langgraph<1.1.0,>=1.0.0->langchain) (3.0.0)\n",
            "Requirement already satisfied: langgraph-prebuilt<1.1.0,>=1.0.0 in /usr/local/lib/python3.12/dist-packages (from langgraph<1.1.0,>=1.0.0->langchain) (1.0.1)\n",
            "Requirement already satisfied: langgraph-sdk<0.3.0,>=0.2.2 in /usr/local/lib/python3.12/dist-packages (from langgraph<1.1.0,>=1.0.0->langchain) (0.2.9)\n",
            "Requirement already satisfied: xxhash>=3.5.0 in /usr/local/lib/python3.12/dist-packages (from langgraph<1.1.0,>=1.0.0->langchain) (3.6.0)\n",
            "Requirement already satisfied: annotated-types>=0.6.0 in /usr/local/lib/python3.12/dist-packages (from pydantic<3.0.0,>=2.7.4->langchain) (0.7.0)\n",
            "Requirement already satisfied: pydantic-core==2.33.2 in /usr/local/lib/python3.12/dist-packages (from pydantic<3.0.0,>=2.7.4->langchain) (2.33.2)\n",
            "Requirement already satisfied: typing-inspection>=0.4.0 in /usr/local/lib/python3.12/dist-packages (from pydantic<3.0.0,>=2.7.4->langchain) (0.4.2)\n",
            "Requirement already satisfied: jsonpointer>=1.9 in /usr/local/lib/python3.12/dist-packages (from jsonpatch<2.0.0,>=1.33.0->langchain-core<2.0.0,>=1.0.0->langchain) (3.0.0)\n",
            "Requirement already satisfied: ormsgpack>=1.10.0 in /usr/local/lib/python3.12/dist-packages (from langgraph-checkpoint<4.0.0,>=2.1.0->langgraph<1.1.0,>=1.0.0->langchain) (1.11.0)\n",
            "Requirement already satisfied: httpx>=0.25.2 in /usr/local/lib/python3.12/dist-packages (from langgraph-sdk<0.3.0,>=0.2.2->langgraph<1.1.0,>=1.0.0->langchain) (0.28.1)\n",
            "Requirement already satisfied: orjson>=3.10.1 in /usr/local/lib/python3.12/dist-packages (from langgraph-sdk<0.3.0,>=0.2.2->langgraph<1.1.0,>=1.0.0->langchain) (3.11.3)\n",
            "Requirement already satisfied: requests-toolbelt>=1.0.0 in /usr/local/lib/python3.12/dist-packages (from langsmith<1.0.0,>=0.3.45->langchain-core<2.0.0,>=1.0.0->langchain) (1.0.0)\n",
            "Requirement already satisfied: requests>=2.0.0 in /usr/local/lib/python3.12/dist-packages (from langsmith<1.0.0,>=0.3.45->langchain-core<2.0.0,>=1.0.0->langchain) (2.32.4)\n",
            "Requirement already satisfied: zstandard>=0.23.0 in /usr/local/lib/python3.12/dist-packages (from langsmith<1.0.0,>=0.3.45->langchain-core<2.0.0,>=1.0.0->langchain) (0.25.0)\n",
            "Requirement already satisfied: anyio in /usr/local/lib/python3.12/dist-packages (from httpx>=0.25.2->langgraph-sdk<0.3.0,>=0.2.2->langgraph<1.1.0,>=1.0.0->langchain) (4.11.0)\n",
            "Requirement already satisfied: certifi in /usr/local/lib/python3.12/dist-packages (from httpx>=0.25.2->langgraph-sdk<0.3.0,>=0.2.2->langgraph<1.1.0,>=1.0.0->langchain) (2025.10.5)\n",
            "Requirement already satisfied: httpcore==1.* in /usr/local/lib/python3.12/dist-packages (from httpx>=0.25.2->langgraph-sdk<0.3.0,>=0.2.2->langgraph<1.1.0,>=1.0.0->langchain) (1.0.9)\n",
            "Requirement already satisfied: idna in /usr/local/lib/python3.12/dist-packages (from httpx>=0.25.2->langgraph-sdk<0.3.0,>=0.2.2->langgraph<1.1.0,>=1.0.0->langchain) (3.11)\n",
            "Requirement already satisfied: h11>=0.16 in /usr/local/lib/python3.12/dist-packages (from httpcore==1.*->httpx>=0.25.2->langgraph-sdk<0.3.0,>=0.2.2->langgraph<1.1.0,>=1.0.0->langchain) (0.16.0)\n",
            "Requirement already satisfied: charset_normalizer<4,>=2 in /usr/local/lib/python3.12/dist-packages (from requests>=2.0.0->langsmith<1.0.0,>=0.3.45->langchain-core<2.0.0,>=1.0.0->langchain) (3.4.4)\n",
            "Requirement already satisfied: urllib3<3,>=1.21.1 in /usr/local/lib/python3.12/dist-packages (from requests>=2.0.0->langsmith<1.0.0,>=0.3.45->langchain-core<2.0.0,>=1.0.0->langchain) (2.5.0)\n",
            "Requirement already satisfied: sniffio>=1.1 in /usr/local/lib/python3.12/dist-packages (from anyio->httpx>=0.25.2->langgraph-sdk<0.3.0,>=0.2.2->langgraph<1.1.0,>=1.0.0->langchain) (1.3.1)\n"
          ]
        }
      ],
      "source": [
        "!pip install --upgrade langchain"
      ]
    },
    {
      "cell_type": "code",
      "source": [
        "!pip install -qU langchain-groq"
      ],
      "metadata": {
        "id": "vpd2OWBF9A9c"
      },
      "execution_count": 93,
      "outputs": []
    },
    {
      "cell_type": "code",
      "source": [
        "from langchain_core.output_parsers import StrOutputParser\n",
        "from langchain_core.prompts import PromptTemplate, ChatPromptTemplate, FewShotPromptTemplate\n",
        "import pandas as pd\n",
        "from langchain_groq import ChatGroq\n",
        "from langchain_core.messages import SystemMessage , HumanMessage\n",
        "from google.colab import userdata\n",
        "import os"
      ],
      "metadata": {
        "id": "S7iSmIN39Vu7"
      },
      "execution_count": 94,
      "outputs": []
    },
    {
      "cell_type": "code",
      "source": [
        "if \"GROQ_API_KEY\" not in os.environ:\n",
        "    os.environ[\"GROQ_API_KEY\"] = userdata.get(\"GROQ_API_KEY\")"
      ],
      "metadata": {
        "id": "mDW3GEt3EtjP"
      },
      "execution_count": 95,
      "outputs": []
    },
    {
      "cell_type": "code",
      "source": [
        "llm = ChatGroq(\n",
        "    model=\"openai/gpt-oss-20b\",\n",
        "    temperature=0,\n",
        "    reasoning_format=\"parsed\",\n",
        "    max_retries=2,\n",
        ")"
      ],
      "metadata": {
        "id": "5Bk22emJAyru"
      },
      "execution_count": 96,
      "outputs": []
    },
    {
      "cell_type": "markdown",
      "source": [
        "## بررسی اثر جزئیات پرامپت بر کیفیت محتوای تولید شده\n"
      ],
      "metadata": {
        "id": "xTn4yqgSGQuG"
      }
    },
    {
      "cell_type": "code",
      "source": [
        "note=\"Monthly subscription.\""
      ],
      "metadata": {
        "id": "_hdWcghcBHM4"
      },
      "execution_count": 97,
      "outputs": []
    },
    {
      "cell_type": "code",
      "source": [
        "merchant=\"StarBucks\""
      ],
      "metadata": {
        "id": "OnEJInVBBDJe"
      },
      "execution_count": 98,
      "outputs": []
    },
    {
      "cell_type": "code",
      "source": [
        "template_1=\"\"\"You are an AI assistant designed to assign a category to a transaction based on the user's transaction note:\"{note}\" \"\"\""
      ],
      "metadata": {
        "id": "PK3-tj519Z_j"
      },
      "execution_count": 99,
      "outputs": []
    },
    {
      "cell_type": "code",
      "source": [
        "prompt_1 = PromptTemplate(template=template_1, input_variables=[\"note\"])"
      ],
      "metadata": {
        "id": "HUgPbFYdDCvE"
      },
      "execution_count": 100,
      "outputs": []
    },
    {
      "cell_type": "code",
      "source": [
        "prompt_1=prompt_1.format(note=note)"
      ],
      "metadata": {
        "id": "dUKshtC8C7vM"
      },
      "execution_count": 101,
      "outputs": []
    },
    {
      "cell_type": "code",
      "source": [
        "template_2 = \"\"\"You are an AI assistant designed to assign a category to a purchase transaction based on the user's transaction note and the merchant name. The user's note is \"{note}\" and the merchant name is \"{merchant}\".\"\"\""
      ],
      "metadata": {
        "id": "Wo9MdSx-9exb"
      },
      "execution_count": 102,
      "outputs": []
    },
    {
      "cell_type": "code",
      "source": [
        "prompt_2 = PromptTemplate(template=template_2, input_variables=[\"note\" , \"merchant\"])"
      ],
      "metadata": {
        "id": "SpXu9xfaDuft"
      },
      "execution_count": 103,
      "outputs": []
    },
    {
      "cell_type": "code",
      "source": [
        "prompt_2=prompt_2.format(note=note , merchant=merchant)"
      ],
      "metadata": {
        "id": "6SG6txDxDude"
      },
      "execution_count": 104,
      "outputs": []
    },
    {
      "cell_type": "code",
      "source": [
        "template_3 = \"\"\"You are an AI assistant designed to assign one category from the list below:\n",
        "-Food and Drink\n",
        "\n",
        "-Groceries\n",
        "\n",
        "-House and Garden\n",
        "\n",
        "-Car and Transportation\n",
        "\n",
        "-Digital Services\n",
        "\n",
        "-Health and Fitness\n",
        "\n",
        "-Entertainment\n",
        "\n",
        "-Shopping and Retail\n",
        "\n",
        "-Utilities and Bills\n",
        "\n",
        "-Travel and Accommodation\n",
        "\n",
        "-Education and Learning\n",
        "\n",
        "-Financial Services\n",
        "\n",
        "-Gifts and Donations\n",
        "\n",
        "-Personal Care\n",
        "\n",
        "-Pets\n",
        "\n",
        "-Insurance\n",
        "\n",
        "-Rent and Housing\n",
        "\n",
        "-Kids and Family\n",
        "\n",
        "-Hobbies and Leisure\n",
        "\n",
        "Assign the most appropriate category to a purchase transaction based on the user's transaction note and the merchant name. The user's note is \"{note}\" and the merchant name is \"{merchant}\".\"\"\"\n"
      ],
      "metadata": {
        "id": "wXJ6jvk19ep7"
      },
      "execution_count": 105,
      "outputs": []
    },
    {
      "cell_type": "code",
      "source": [
        "prompt_3 = PromptTemplate(template=template_3, input_variables=[\"note\" , \"merchant\"])"
      ],
      "metadata": {
        "id": "s_4OfqpQD4Im"
      },
      "execution_count": 106,
      "outputs": []
    },
    {
      "cell_type": "code",
      "source": [
        "prompt_3=prompt_3.format(note=note , merchant=merchant)"
      ],
      "metadata": {
        "id": "WOzpsIU6D7Ob"
      },
      "execution_count": 107,
      "outputs": []
    },
    {
      "cell_type": "code",
      "source": [
        "responses = llm.batch([\n",
        "    prompt_1,\n",
        "    prompt_2,\n",
        "    prompt_3\n",
        "])"
      ],
      "metadata": {
        "id": "MhyxeT6C_uxR"
      },
      "execution_count": 108,
      "outputs": []
    },
    {
      "cell_type": "code",
      "source": [
        "for i in range(len(responses)):\n",
        "  print(responses[i].content)"
      ],
      "metadata": {
        "colab": {
          "base_uri": "https://localhost:8080/"
        },
        "id": "FgksBRMooiMF",
        "outputId": "ccd6b117-b81f-47ed-88a7-b73d2f8f053b"
      },
      "execution_count": 109,
      "outputs": [
        {
          "output_type": "stream",
          "name": "stdout",
          "text": [
            "**Category:** Subscriptions\n",
            "Subscriptions\n",
            "Food and Drink\n"
          ]
        }
      ]
    },
    {
      "cell_type": "markdown",
      "source": [
        "## تاثیر اثر prompting shot-few در تقلید سبک نوشتاری"
      ],
      "metadata": {
        "id": "aSoiMVuGGVt3"
      }
    },
    {
      "cell_type": "code",
      "source": [
        "prompt_1 = ChatPromptTemplate.from_messages(\n",
        "    [\n",
        "        (\n",
        "            \"system\",\n",
        "            \"You are an AI assistant designed to explain different diseases simply in a scientific style\",\n",
        "        ),\n",
        "        (\"human\", \"{disease}\"),\n",
        "    ]\n",
        ")\n",
        "\n",
        "chain = prompt_1 | llm\n",
        "result_1=chain.invoke(\n",
        "    {\n",
        "\n",
        "        \"disease\": \"Mania\",\n",
        "    }\n",
        ")\n",
        "print(result_1.content)"
      ],
      "metadata": {
        "colab": {
          "base_uri": "https://localhost:8080/"
        },
        "id": "Qs_jQOjOlJgd",
        "outputId": "1af3b869-3854-45fe-a8cb-a4f57ca2fd7b"
      },
      "execution_count": 110,
      "outputs": [
        {
          "output_type": "stream",
          "name": "stdout",
          "text": [
            "**Mania**  \n",
            "*A mood‑state disorder that is part of bipolar disorder.*\n",
            "\n",
            "---\n",
            "\n",
            "### 1. What it is  \n",
            "- **Mania** is a period of abnormally elevated, expansive, or irritable mood that lasts at least one week (or less if hospitalization is required).  \n",
            "- It is one half of the classic bipolar spectrum (the other half being depression).  \n",
            "- In a manic episode, a person’s energy, activity level, and emotional intensity are far above what is typical for them.\n",
            "\n",
            "### 2. Core symptoms (DSM‑5 criteria)  \n",
            "A person must show **at least three** of the following (or four if mood is only irritable):\n",
            "\n",
            "| Symptom | Typical description |\n",
            "|---------|---------------------|\n",
            "| **Elevated or expansive mood** | Feeling “on top of the world,” euphoric, or unusually cheerful. |\n",
            "| **Increased goal‑directed activity** | Starting many projects, racing thoughts, or feeling “hyper‑productive.” |\n",
            "| **Reduced need for sleep** | Feeling rested after only a few hours or not needing sleep at all. |\n",
            "| **Talkativeness / pressured speech** | Speaking rapidly, jumping from topic to topic, or feeling compelled to talk. |\n",
            "| **Grandiosity** | Inflated self‑esteem, believing one has special powers or abilities. |\n",
            "| **Distractibility** | Attention easily pulled away by irrelevant stimuli. |\n",
            "| **Impulsivity / risky behavior** | Excessive spending, reckless driving, or other high‑risk actions. |\n",
            "\n",
            "### 3. How it happens – the science  \n",
            "| Biological factor | What we know |\n",
            "|-------------------|--------------|\n",
            "| **Neurotransmitters** | Excess dopamine and norepinephrine in certain brain circuits (especially the mesolimbic pathway) are linked to the heightened reward and energy seen in mania. |\n",
            "| **Brain structure** | Functional MRI studies show increased activity in the prefrontal cortex and amygdala, and decreased regulation from the anterior cingulate cortex. |\n",
            "| **Genetics** | About 70–80 % of the risk is heritable. Genes involved in dopamine signaling, circadian rhythm regulation, and ion channel function are implicated. |\n",
            "| **Circadian rhythm** | Disruptions in the body’s internal clock (e.g., irregular sleep patterns) can trigger or worsen manic episodes. |\n",
            "| **Environmental triggers** | Stress, sleep deprivation, substance use, or major life changes can precipitate mania in susceptible individuals. |\n",
            "\n",
            "### 4. When it’s a problem  \n",
            "- **Functional impairment**: Work, school, relationships, or self‑care become difficult.  \n",
            "- **Risk of harm**: Impulsive actions can lead to financial loss, legal trouble, or injury.  \n",
            "- **Risk of suicide**: While mania itself is less directly linked to suicide than depression, mixed episodes (mania + depression) carry a high risk.\n",
            "\n",
            "### 5. Diagnosis  \n",
            "- **Clinical interview**: A mental‑health professional reviews mood history, symptom duration, and functional impact.  \n",
            "- **Mood charts**: Patients may keep a daily log of mood, sleep, and activity to help identify patterns.  \n",
            "- **Rule out other causes**: Medical conditions (thyroid disease, medication side‑effects) and substance use are checked.\n",
            "\n",
            "### 6. Treatment options  \n",
            "| Modality | How it works |\n",
            "|----------|--------------|\n",
            "| **Mood stabilizers** (e.g., lithium, valproate, lamotrigine) | Stabilize neuronal firing and neurotransmitter release. |\n",
            "| **Atypical antipsychotics** (e.g., quetiapine, olanzapine) | Block dopamine and serotonin receptors to reduce mania. |\n",
            "| **Psychotherapy** (CBT, psychoeducation) | Helps patients recognize early warning signs, maintain sleep hygiene, and manage stress. |\n",
            "| **Lifestyle changes** | Regular sleep schedule, exercise, limiting caffeine/alcohol, and avoiding late‑night screens. |\n",
            "| **Hospitalization** | In severe cases (risk of self‑harm, psychosis, or dangerous impulsivity). |\n",
            "\n",
            "### 7. Prognosis  \n",
            "- With early, consistent treatment, many people achieve long‑term stability.  \n",
            "- Untreated mania can lead to chronic illness, repeated hospitalizations, and reduced quality of life.  \n",
            "- Ongoing monitoring is essential because bipolar disorder is a lifelong condition.\n",
            "\n",
            "---\n",
            "\n",
            "**Bottom line:** Mania is a biologically driven, high‑energy mood state that can severely disrupt daily life. It involves a mix of genetic predisposition, neurotransmitter imbalance, and environmental triggers. Recognizing the signs early and starting a combination of medication, therapy, and lifestyle changes can help people regain control and maintain stability.\n"
          ]
        }
      ]
    },
    {
      "cell_type": "code",
      "source": [
        "prompt_second = ChatPromptTemplate.from_messages(\n",
        "    [\n",
        "        (\n",
        "            \"system\",\n",
        "            \"\"\"You are an AI assistant designed to explain different diseases simply in a scientific style, this explanation should be short, concise and understnading.\n",
        "            Explain is and provide the following information:\n",
        "            1. A brief description of the disease.\n",
        "            2. key changes (in bullet points).\n",
        "            3. main types if there is\n",
        "            2. Symptoms (in bullet points).\n",
        "            3. Signs (in bullet points).\n",
        "            4. Who is at risk / what people typically get this disease.\n",
        "            5. What people should do when they experience it.\"\"\",\n",
        "        ),\n",
        "        (\"human\", \"{disease}\"),\n",
        "    ]\n",
        ")\n",
        "chain = prompt_second | llm\n",
        "result_2=chain.invoke(\n",
        "    {\n",
        "\n",
        "        \"disease\": \"Mania\",\n",
        "    }\n",
        ").content\n",
        "print(result_2)"
      ],
      "metadata": {
        "id": "vW37qSriKjU2",
        "colab": {
          "base_uri": "https://localhost:8080/"
        },
        "outputId": "400a7160-ecac-49ea-f7cd-ddd552f11d49"
      },
      "execution_count": 111,
      "outputs": [
        {
          "output_type": "stream",
          "name": "stdout",
          "text": [
            "**Mania**  \n",
            "A mood‑disorder state marked by an abnormally elevated, expansive, or irritable mood, accompanied by increased energy and activity. It is a core feature of bipolar disorder but can also occur in other psychiatric or medical conditions.\n",
            "\n",
            "**Key physiological/biological changes**  \n",
            "- ↑ Dopamine and norepinephrine activity in the mesolimbic and prefrontal circuits  \n",
            "- ↓ GABAergic inhibition → heightened arousal  \n",
            "- Altered circadian rhythm (shortened sleep, increased wakefulness)  \n",
            "- ↑ cAMP signaling → changes in neuronal excitability  \n",
            "\n",
            "**Main types**  \n",
            "- **Cyclothymic mania** – brief, less intense episodes  \n",
            "- **Manic episode (Bipolar I)** – ≥1 week of full‑blown mania  \n",
            "- **Hypomanic episode (Bipolar II)** – ≥4 days, less severe, no psychosis  \n",
            "\n",
            "**Symptoms** (subjective experiences)  \n",
            "- Grandiosity or inflated self‑esteem  \n",
            "- Racing thoughts, rapid speech  \n",
            "- Decreased need for sleep  \n",
            "- Increased goal‑directed activity or distractibility  \n",
            "- Impulsive or risky behavior (spending, sexual, substance use)  \n",
            "\n",
            "**Signs** (observable behaviors)  \n",
            "- Hyper‑talkativeness, pressured speech  \n",
            "- Elevated or labile affect (easily shifted to irritability)  \n",
            "- Restlessness, fidgeting, or pacing  \n",
            "- Disorganized or grandiose actions (e.g., extravagant plans)  \n",
            "- Possible psychotic features (delusions, hallucinations) in severe cases  \n",
            "\n",
            "**Who is at risk**  \n",
            "- Family history of bipolar disorder or other mood disorders  \n",
            "- Adolescents and young adults (peak onset 15‑30 yrs)  \n",
            "- Individuals with high stress, sleep deprivation, or substance use  \n",
            "- Certain medical conditions (e.g., thyroid disorders, brain injury)  \n",
            "\n",
            "**What to do if you experience mania**  \n",
            "1. **Seek professional help immediately** – contact a psychiatrist, primary care provider, or emergency department if psychosis or self‑harm risk is present.  \n",
            "2. **Avoid alcohol and recreational drugs** – they can worsen symptoms.  \n",
            "3. **Maintain a regular sleep schedule** – use sleep hygiene strategies.  \n",
            "4. **Monitor mood and behavior** – keep a daily log to share with clinicians.  \n",
            "5. **Follow prescribed treatment** – mood stabilizers (lithium, valproate, carbamazepine) or atypical antipsychotics; consider psychotherapy (CBT, psychoeducation).  \n",
            "\n",
            "Early intervention reduces the risk of relapse, hospitalization, and long‑term functional impairment.\n"
          ]
        }
      ]
    },
    {
      "cell_type": "markdown",
      "source": [
        "## .۳ تاثیر prompting shot-few در تولید خروجی ساختار یافته"
      ],
      "metadata": {
        "id": "QYmVuIhBLQJH"
      }
    },
    {
      "cell_type": "code",
      "metadata": {
        "colab": {
          "base_uri": "https://localhost:8080/"
        },
        "id": "107cc9dd",
        "outputId": "53ebfb49-2b6f-471d-948c-eeecd37343ec"
      },
      "source": [
        "!pip install rarfile"
      ],
      "execution_count": 112,
      "outputs": [
        {
          "output_type": "stream",
          "name": "stdout",
          "text": [
            "Requirement already satisfied: rarfile in /usr/local/lib/python3.12/dist-packages (4.2)\n"
          ]
        }
      ]
    },
    {
      "cell_type": "code",
      "metadata": {
        "id": "1c047281"
      },
      "source": [
        "import rarfile\n",
        "with rarfile.RarFile('/content/HW_02_prompt_engineering.rar') as rf:\n",
        "    rf.extractall('/content/')"
      ],
      "execution_count": 113,
      "outputs": []
    },
    {
      "cell_type": "code",
      "source": [
        "with open('/content/resume_sample1.txt', 'r') as f:\n",
        "    resume_sample1 = f.read()"
      ],
      "metadata": {
        "id": "jlvNa8JfE24u"
      },
      "execution_count": 114,
      "outputs": []
    },
    {
      "cell_type": "code",
      "source": [
        "with open('/content/resume_sample2.txt', 'r') as f:\n",
        "    resume_sample2 = f.read()"
      ],
      "metadata": {
        "id": "Fc198g5BE4Pf"
      },
      "execution_count": 115,
      "outputs": []
    },
    {
      "cell_type": "code",
      "source": [
        "prompt_zero_shot=\"\"\"\n",
        "You are an expert resume parser.\n",
        "\n",
        "Extract information from the following resume and provide it as a JSON object with the exact structure below.\n",
        "Even if some fields are missing, they must appear in the JSON as empty strings or empty lists.\n",
        "\n",
        "JSON Structure:\n",
        "\n",
        "{{\n",
        "  \"full_name\": \"\",\n",
        "  \"contact\": {{\n",
        "    \"email\": \"\",\n",
        "    \"phone\": \"\"\n",
        "  }},\n",
        "  \"education\": [\n",
        "    {{\n",
        "      \"degree\": \"\",\n",
        "      \"field_of_study\": \"\",\n",
        "      \"university\": \"\",\n",
        "      \"graduation_year\": \"\"\n",
        "    }}\n",
        "  ],\n",
        "  \"work_experience\": [\n",
        "    {{\n",
        "      \"job_title\": \"\",\n",
        "      \"company\": \"\",\n",
        "      \"duration\": \"\",\n",
        "      \"responsibilities\": \"\"\n",
        "    }}\n",
        "  ],\n",
        "  \"skills\": [],\n",
        "  \"certifications\": []\n",
        "}}\n",
        "\n",
        "Resume Text:\n",
        "{resume_text}\n",
        "\n",
        "Provide **only the JSON output** in the exact format above. Do not include any explanations or extra text.\n",
        "\n",
        "\"\"\""
      ],
      "metadata": {
        "id": "upk6IdyE103X"
      },
      "execution_count": 116,
      "outputs": []
    },
    {
      "cell_type": "code",
      "source": [
        "prompt_zero_shot=PromptTemplate(template=prompt_zero_shot, input_variables=[\"resume_text\"])"
      ],
      "metadata": {
        "id": "4VCT7tYA8NoM"
      },
      "execution_count": 117,
      "outputs": []
    },
    {
      "cell_type": "code",
      "source": [
        "chain_zero=prompt_zero_shot|llm"
      ],
      "metadata": {
        "id": "Oci4pwq087gK"
      },
      "execution_count": 118,
      "outputs": []
    },
    {
      "cell_type": "code",
      "source": [
        "response_zero_shot=chain_zero.invoke({\"resume_text\":resume_sample1})"
      ],
      "metadata": {
        "id": "Fjx-Wh0B8-K0"
      },
      "execution_count": 148,
      "outputs": []
    },
    {
      "cell_type": "code",
      "source": [
        "print(response_zero_shot.content)"
      ],
      "metadata": {
        "colab": {
          "base_uri": "https://localhost:8080/"
        },
        "id": "bUP6XbdT9CwO",
        "outputId": "040f93d8-9386-4d20-a9d3-aa183161f66b"
      },
      "execution_count": 149,
      "outputs": [
        {
          "output_type": "stream",
          "name": "stdout",
          "text": [
            "{\n",
            "  \"full_name\": \"Sara Moradi\",\n",
            "  \"contact\": {\n",
            "    \"email\": \"sara.moradi@example.com\",\n",
            "    \"phone\": \"+98 912 123 4567\"\n",
            "  },\n",
            "  \"education\": [\n",
            "    {\n",
            "      \"degree\": \"MSc\",\n",
            "      \"field_of_study\": \"Data Science\",\n",
            "      \"university\": \"University of Tehran\",\n",
            "      \"graduation_year\": \"2021\"\n",
            "    },\n",
            "    {\n",
            "      \"degree\": \"BSc\",\n",
            "      \"field_of_study\": \"Computer Engineering\",\n",
            "      \"university\": \"Sharif University\",\n",
            "      \"graduation_year\": \"2018\"\n",
            "    }\n",
            "  ],\n",
            "  \"work_experience\": [\n",
            "    {\n",
            "      \"job_title\": \"Data Scientist\",\n",
            "      \"company\": \"Snapp\",\n",
            "      \"duration\": \"2022-Present\",\n",
            "      \"responsibilities\": \"Developed machine learning models for customer segmentation Optimized recommendation systems for better user experience\"\n",
            "    },\n",
            "    {\n",
            "      \"job_title\": \"AI Researcher\",\n",
            "      \"company\": \"Digikala\",\n",
            "      \"duration\": \"2019-2022\",\n",
            "      \"responsibilities\": \"Conducted NLP research for automatic product categorization\"\n",
            "    }\n",
            "  ],\n",
            "  \"skills\": [\n",
            "    \"Python\",\n",
            "    \"TensorFlow\",\n",
            "    \"PyTorch\",\n",
            "    \"SQL\",\n",
            "    \"Data Visualization\"\n",
            "  ],\n",
            "  \"certifications\": [\n",
            "    \"Google Data Analytics Professional Certificate\",\n",
            "    \"Deep Learning Specialization by Andrew Ng (Coursera)\"\n",
            "  ]\n",
            "}\n"
          ]
        }
      ]
    },
    {
      "cell_type": "code",
      "source": [
        "examples = [\n",
        "    {\n",
        "        \"resume\": (\n",
        "            \"Saeedeh Heydarian\\n\"\n",
        "            \"Email: heydariansaeede0@gmail.com\\n\"\n",
        "            \"Phone: 09120171150\\n\"\n",
        "            \"Education: Master Science in Health Information Technology, \"\n",
        "            \"Tehran University of Medical Science, 2020\\n\"\n",
        "            \"Experience: Data Scientist at Asre Danesh, 1 year 10 months\\n\"\n",
        "            \"Skills: SQL, Python, Machine Learning, Deep Learning\\n\"\n",
        "            \"Certifications: python maktabkhoone\"\n",
        "        ),\n",
        "        \"result\": \"\"\"{{\n",
        "  \"full_name\": \"Saeedeh Heydarian\",\n",
        "  \"contact\": {{\"email\": \"heydariansaeede0@gmail.com\", \"phone\": \"09120171150\"}},\n",
        "  \"education\": [{{\n",
        "    \"degree\": \"Master Science\",\n",
        "    \"field_of_study\": \"Health Information Technology\",\n",
        "    \"university\": \"Tehran University of Medical Science\",\n",
        "    \"graduation_year\": \"2020\"\n",
        "  }}],\n",
        "  \"work_experience\": [{{\n",
        "    \"job_title\": \"Data Scientist\",\n",
        "    \"company\": \"Asre Danesh\",\n",
        "    \"duration\": \"1 year 10 months\",\n",
        "    \"responsibilities\": \"\"\n",
        "  }}],\n",
        "  \"skills\": [\"SQL\", \"Python\", \"Machine Learning\", \"Deep Learning\"],\n",
        "  \"certifications\": [\"python maktabkhoone\"]\n",
        "}}\"\"\"\n",
        "    },\n",
        "    {\n",
        "        \"resume\": (\n",
        "            \"Ali Rezaei\\n\"\n",
        "            \"Email: ali.rezaei@example.com\\n\"\n",
        "            \"Phone: 09121234567\\n\"\n",
        "            \"Education: Bachelor in Computer Engineering, \"\n",
        "            \"Sharif University of Technology, 2018\\n\"\n",
        "            \"Experience: Software Engineer at Fanap, 2 years\\n\"\n",
        "            \"Skills: Python, SQL, Django, REST API\\n\"\n",
        "            \"Certifications: AWS Certified Solutions Architect\"\n",
        "        ),\n",
        "        \"result\": \"\"\"{{\n",
        "  \"full_name\": \"Ali Rezaei\",\n",
        "  \"contact\": {{\"email\": \"ali.rezaei@example.com\", \"phone\": \"09121234567\"}},\n",
        "  \"education\": [{{\n",
        "    \"degree\": \"Bachelor\",\n",
        "    \"field_of_study\": \"Computer Engineering\",\n",
        "    \"university\": \"Sharif University of Technology\",\n",
        "    \"graduation_year\": \"2018\"\n",
        "  }}],\n",
        "  \"work_experience\": [{{\n",
        "    \"job_title\": \"Software Engineer\",\n",
        "    \"company\": \"Fanap\",\n",
        "    \"duration\": \"2 years\",\n",
        "    \"responsibilities\": \"Developed backend services and APIs using Python and Django\"\n",
        "  }}],\n",
        "  \"skills\": [\"Python\", \"SQL\", \"Django\", \"REST API\"],\n",
        "  \"certifications\": [\"AWS Certified Solutions Architect\"]\n",
        "}}\"\"\"\n",
        "    }\n",
        "]"
      ],
      "metadata": {
        "id": "D2wgBq2_3Y98"
      },
      "execution_count": 150,
      "outputs": []
    },
    {
      "cell_type": "code",
      "source": [
        "example_prompt = PromptTemplate(\n",
        "    input_variables=[\"resume\", \"result\"],\n",
        "    template=\"Resume:\\n{resume}\\n\\nResult Output:\\n{result}\\n\"\n",
        ")"
      ],
      "metadata": {
        "id": "nOGFDYa9QNWf"
      },
      "execution_count": 151,
      "outputs": []
    },
    {
      "cell_type": "code",
      "source": [
        "few_shot_prompt = FewShotPromptTemplate(\n",
        "    examples=examples,\n",
        "    example_prompt=example_prompt,\n",
        "    prefix=(\n",
        "        \"You are an expert in resume parsing. \"\n",
        "        \"Convert the following resume text into structured JSON\"\n",
        "    ),\n",
        "    suffix=\"\\nNow parse this resume:\\n{resume_text}\\n:\",\n",
        "    input_variables=[\"resume_text\"]\n",
        ")"
      ],
      "metadata": {
        "id": "zbOO97QAQSGX"
      },
      "execution_count": 152,
      "outputs": []
    },
    {
      "cell_type": "code",
      "source": [
        "chain_few_shot =few_shot_prompt|llm"
      ],
      "metadata": {
        "id": "T6S89a-SQYln"
      },
      "execution_count": 153,
      "outputs": []
    },
    {
      "cell_type": "code",
      "source": [
        "Response_Few_shot=response = chain_few_shot.invoke({\"resume_text\": resume_sample1})"
      ],
      "metadata": {
        "id": "eAmeJBGdR2yZ"
      },
      "execution_count": 154,
      "outputs": []
    },
    {
      "cell_type": "code",
      "source": [
        "print(Response_Few_shot.content)"
      ],
      "metadata": {
        "colab": {
          "base_uri": "https://localhost:8080/"
        },
        "id": "ZgEUl4bNR4wv",
        "outputId": "b1087ac1-f585-4b64-9c58-8621bb4c03f0"
      },
      "execution_count": 155,
      "outputs": [
        {
          "output_type": "stream",
          "name": "stdout",
          "text": [
            "```json\n",
            "{\n",
            "  \"full_name\": \"Sara Moradi\",\n",
            "  \"contact\": {\n",
            "    \"email\": \"sara.moradi@example.com\",\n",
            "    \"phone\": \"+98 912 123 4567\"\n",
            "  },\n",
            "  \"education\": [\n",
            "    {\n",
            "      \"degree\": \"MSc\",\n",
            "      \"field_of_study\": \"Data Science\",\n",
            "      \"university\": \"University of Tehran\",\n",
            "      \"graduation_year\": \"2021\"\n",
            "    },\n",
            "    {\n",
            "      \"degree\": \"BSc\",\n",
            "      \"field_of_study\": \"Computer Engineering\",\n",
            "      \"university\": \"Sharif University\",\n",
            "      \"graduation_year\": \"2018\"\n",
            "    }\n",
            "  ],\n",
            "  \"work_experience\": [\n",
            "    {\n",
            "      \"job_title\": \"Data Scientist\",\n",
            "      \"company\": \"Snapp\",\n",
            "      \"duration\": \"2022-Present\",\n",
            "      \"responsibilities\": \"Developed machine learning models for customer segmentation; Optimized recommendation systems for better user experience\"\n",
            "    },\n",
            "    {\n",
            "      \"job_title\": \"AI Researcher\",\n",
            "      \"company\": \"Digikala\",\n",
            "      \"duration\": \"2019-2022\",\n",
            "      \"responsibilities\": \"Conducted NLP research for automatic product categorization\"\n",
            "    }\n",
            "  ],\n",
            "  \"skills\": [\n",
            "    \"Python\",\n",
            "    \"TensorFlow\",\n",
            "    \"PyTorch\",\n",
            "    \"SQL\",\n",
            "    \"Data Visualization\"\n",
            "  ],\n",
            "  \"certifications\": [\n",
            "    \"Google Data Analytics Professional Certificate\",\n",
            "    \"Deep Learning Specialization by Andrew Ng (Coursera)\"\n",
            "  ]\n",
            "}\n",
            "```\n"
          ]
        }
      ]
    },
    {
      "cell_type": "code",
      "source": [],
      "metadata": {
        "id": "0FegWEaVT_tP"
      },
      "execution_count": null,
      "outputs": []
    }
  ]
}